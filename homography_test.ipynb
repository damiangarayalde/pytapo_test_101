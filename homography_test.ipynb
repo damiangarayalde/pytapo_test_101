{
 "cells": [
  {
   "cell_type": "code",
   "execution_count": 8,
   "id": "373d12ad",
   "metadata": {},
   "outputs": [],
   "source": [
    "import cv2\n",
    "import numpy as np"
   ]
  },
  {
   "cell_type": "code",
   "execution_count": 9,
   "id": "935abcd8",
   "metadata": {},
   "outputs": [],
   "source": [
    "# Real-world coordinates of your rectangle corners\n",
    "# Adjust units (cm, m, etc.)\n",
    "pts_world = np.array([\n",
    "    [0, 0],       # top-left\n",
    "    [200, 0],     # top-right\n",
    "    [200, 100],   # bottom-right\n",
    "    [0, 100]      # bottom-left\n",
    "], dtype=np.float32)\n",
    "\n",
    "clicked_points = []\n",
    "H = None\n",
    "calibrated = False"
   ]
  },
  {
   "cell_type": "code",
   "execution_count": 10,
   "id": "477a8397",
   "metadata": {},
   "outputs": [],
   "source": [
    "def image_to_world(H, point):\n",
    "    \"\"\"Map image pixel (u,v) to real-world (x,y).\"\"\"\n",
    "    uv1 = np.array([point[0], point[1], 1.0])\n",
    "    xy1 = H @ uv1\n",
    "    xy1 /= xy1[2]\n",
    "    return float(xy1[0]), float(xy1[1])"
   ]
  },
  {
   "cell_type": "code",
   "execution_count": 11,
   "id": "4d17810c",
   "metadata": {},
   "outputs": [],
   "source": [
    "def mouse_callback(event, x, y, flags, param):\n",
    "    global clicked_points, H, calibrated\n",
    "    if event == cv2.EVENT_LBUTTONDOWN:\n",
    "        if not calibrated:\n",
    "            # Collect the 4 calibration points\n",
    "            if len(clicked_points) < 4:\n",
    "                clicked_points.append([x, y])\n",
    "                print(f\"Calibration point {len(clicked_points)}: ({x}, {y})\")\n",
    "        else:\n",
    "            # After calibration, map any clicked point\n",
    "            real_coords = image_to_world(H, (x, y))\n",
    "            print(f\"Pixel ({x},{y}) → Real world {real_coords}\")\n",
    "            cv2.circle(param, (x, y), 5, (255, 0, 0), -1)\n",
    "            cv2.putText(param, f\"{real_coords[0]:.1f},{real_coords[1]:.1f}\",\n",
    "                        (x+10, y), cv2.FONT_HERSHEY_SIMPLEX, 0.5,\n",
    "                        (255, 0, 0), 1, cv2.LINE_AA)"
   ]
  },
  {
   "cell_type": "code",
   "execution_count": 12,
   "id": "ce10fcae",
   "metadata": {},
   "outputs": [],
   "source": [
    "# Load a snapshot (replace with camera frame if needed)\n",
    "frame = cv2.imread(\"snapshot.jpg\")\n",
    "clone = frame.copy()\n",
    "\n",
    "cv2.namedWindow(\"Calibration\")\n",
    "cv2.setMouseCallback(\"Calibration\", mouse_callback, clone)"
   ]
  },
  {
   "cell_type": "code",
   "execution_count": 13,
   "id": "5db9edbb",
   "metadata": {},
   "outputs": [
    {
     "name": "stdout",
     "output_type": "stream",
     "text": [
      "Calibration point 1: (869, 42)\n",
      "Calibration point 2: (1348, 30)\n",
      "Calibration point 3: (2134, 923)\n",
      "Calibration point 4: (975, 1166)\n",
      "Homography matrix:\n",
      " [[ 3.70747315e-01 -3.49637147e-02 -3.20710940e+02]\n",
      " [ 6.01390717e-03  2.40055128e-01 -1.53084007e+01]\n",
      " [-1.16273484e-04  1.55914325e-03  1.00000000e+00]]\n",
      "Calibration complete! Now click anywhere to get real-world coords.\n",
      "Pixel (1017,1091) → Real world (7.044231407471597, 97.84354921018969)\n",
      "Pixel (1001,1158) → Real world (3.6886492978602483, 99.92025066703724)\n",
      "Pixel (1248,350) → Real world (92.6354831631349, 54.41721353041268)\n",
      "Pixel (1097,36) → Real world (91.2580828092765, -0.0744794687062951)\n",
      "Pixel (1134,36) → Real world (106.52437624002158, 0.1659188319599424)\n",
      "Pixel (1789,789) → Real world (155.75971930531549, 91.41453686237097)\n",
      "Pixel (1789,789) → Real world (155.75971930531549, 91.41453686237097)\n",
      "Pixel (1789,789) → Real world (155.75971930531549, 91.41453686237097)\n"
     ]
    },
    {
     "ename": "KeyboardInterrupt",
     "evalue": "",
     "output_type": "error",
     "traceback": [
      "\u001b[31m---------------------------------------------------------------------------\u001b[39m",
      "\u001b[31mKeyboardInterrupt\u001b[39m                         Traceback (most recent call last)",
      "\u001b[36mCell\u001b[39m\u001b[36m \u001b[39m\u001b[32mIn[13]\u001b[39m\u001b[32m, line 14\u001b[39m\n\u001b[32m      9\u001b[39m         cv2.putText(display, \u001b[33mf\u001b[39m\u001b[33m\"\u001b[39m\u001b[38;5;132;01m{\u001b[39;00mrw[\u001b[32m0\u001b[39m]\u001b[38;5;132;01m}\u001b[39;00m\u001b[33m,\u001b[39m\u001b[38;5;132;01m{\u001b[39;00mrw[\u001b[32m1\u001b[39m]\u001b[38;5;132;01m}\u001b[39;00m\u001b[33m\"\u001b[39m,\n\u001b[32m     10\u001b[39m                     (pt[\u001b[32m0\u001b[39m]+\u001b[32m10\u001b[39m, pt[\u001b[32m1\u001b[39m]), cv2.FONT_HERSHEY_SIMPLEX,\n\u001b[32m     11\u001b[39m                     \u001b[32m0.5\u001b[39m, (\u001b[32m0\u001b[39m, \u001b[32m255\u001b[39m, \u001b[32m0\u001b[39m), \u001b[32m1\u001b[39m, cv2.LINE_AA)\n\u001b[32m     13\u001b[39m cv2.imshow(\u001b[33m\"\u001b[39m\u001b[33mCalibration\u001b[39m\u001b[33m\"\u001b[39m, display)\n\u001b[32m---> \u001b[39m\u001b[32m14\u001b[39m key = \u001b[43mcv2\u001b[49m\u001b[43m.\u001b[49m\u001b[43mwaitKey\u001b[49m\u001b[43m(\u001b[49m\u001b[32;43m1\u001b[39;49m\u001b[43m)\u001b[49m & \u001b[32m0xFF\u001b[39m\n\u001b[32m     16\u001b[39m \u001b[38;5;66;03m# Press Enter to compute homography once 4 points are set\u001b[39;00m\n\u001b[32m     17\u001b[39m \u001b[38;5;28;01mif\u001b[39;00m key == \u001b[32m13\u001b[39m \u001b[38;5;129;01mand\u001b[39;00m \u001b[38;5;28mlen\u001b[39m(clicked_points) == \u001b[32m4\u001b[39m \u001b[38;5;129;01mand\u001b[39;00m \u001b[38;5;129;01mnot\u001b[39;00m calibrated:\n",
      "\u001b[31mKeyboardInterrupt\u001b[39m: "
     ]
    }
   ],
   "source": [
    "while True:\n",
    "    display = clone.copy()\n",
    "\n",
    "    # Draw calibration points\n",
    "    for i, pt in enumerate(clicked_points):\n",
    "        cv2.circle(display, tuple(pt), 5, (0, 0, 255), -1)\n",
    "        if i < len(pts_world):\n",
    "            rw = pts_world[i]\n",
    "            cv2.putText(display, f\"{rw[0]},{rw[1]}\",\n",
    "                        (pt[0]+10, pt[1]), cv2.FONT_HERSHEY_SIMPLEX,\n",
    "                        0.5, (0, 255, 0), 1, cv2.LINE_AA)\n",
    "\n",
    "    cv2.imshow(\"Calibration\", display)\n",
    "    key = cv2.waitKey(1) & 0xFF\n",
    "\n",
    "    # Press Enter to compute homography once 4 points are set\n",
    "    if key == 13 and len(clicked_points) == 4 and not calibrated:\n",
    "        pts_image = np.array(clicked_points, dtype=np.float32)\n",
    "        H, mask = cv2.findHomography(pts_image, pts_world)\n",
    "        print(\"Homography matrix:\\n\", H)\n",
    "        calibrated = True\n",
    "        print(\"Calibration complete! Now click anywhere to get real-world coords.\")\n",
    "\n",
    "    # ESC to quit\n",
    "    elif key == 27:\n",
    "        break\n",
    "\n",
    "cv2.destroyAllWindows()"
   ]
  },
  {
   "cell_type": "code",
   "execution_count": 7,
   "id": "40413dfb",
   "metadata": {},
   "outputs": [
    {
     "name": "stdout",
     "output_type": "stream",
     "text": [
      "Homography matrix:\n",
      " [[ 4.30616088e-01 -3.47894506e-02 -3.79177953e+02]\n",
      " [ 7.12865505e-03  2.80987820e-01 -3.92200779e+01]\n",
      " [-1.26426938e-04  1.83632697e-03  1.00000000e+00]]\n"
     ]
    }
   ],
   "source": [
    "if len(clicked_points) == 4:\n",
    "    pts_image = np.array(clicked_points, dtype=np.float32)\n",
    "    H, mask = cv2.findHomography(pts_image, pts_world)\n",
    "    print(\"Homography matrix:\\n\", H)\n",
    "else:\n",
    "    print(\"Not enough points selected.\")"
   ]
  }
 ],
 "metadata": {
  "kernelspec": {
   "display_name": ".venv",
   "language": "python",
   "name": "python3"
  },
  "language_info": {
   "codemirror_mode": {
    "name": "ipython",
    "version": 3
   },
   "file_extension": ".py",
   "mimetype": "text/x-python",
   "name": "python",
   "nbconvert_exporter": "python",
   "pygments_lexer": "ipython3",
   "version": "3.11.13"
  }
 },
 "nbformat": 4,
 "nbformat_minor": 5
}
